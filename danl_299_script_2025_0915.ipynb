{
  "nbformat": 4,
  "nbformat_minor": 0,
  "metadata": {
    "colab": {
      "provenance": [],
      "authorship_tag": "ABX9TyP7Nhxlph3+/Z9KgjUGXF4z",
      "include_colab_link": true
    },
    "kernelspec": {
      "name": "python3",
      "display_name": "Python 3"
    },
    "language_info": {
      "name": "python"
    }
  },
  "cells": [
    {
      "cell_type": "markdown",
      "metadata": {
        "id": "view-in-github",
        "colab_type": "text"
      },
      "source": [
        "<a href=\"https://colab.research.google.com/github/bcdanl/299-code/blob/main/danl_299_script_2025_0915.ipynb\" target=\"_parent\"><img src=\"https://colab.research.google.com/assets/colab-badge.svg\" alt=\"Open In Colab\"/></a>"
      ]
    },
    {
      "cell_type": "code",
      "execution_count": 1,
      "metadata": {
        "colab": {
          "base_uri": "https://localhost:8080/"
        },
        "id": "Sm62rHhNOB0j",
        "outputId": "48eb2165-a9f3-4969-89ad-7d65b7fef14f"
      },
      "outputs": [
        {
          "output_type": "stream",
          "name": "stdout",
          "text": [
            "Found a number greater than 4: 5\n"
          ]
        }
      ],
      "source": [
        "numbers = [1, 3, 5]\n",
        "position = 0\n",
        "\n",
        "while position < len(numbers):\n",
        "    number = numbers[position]\n",
        "    if number > 4:  # Condition changed to checking if the number is greater than 4\n",
        "        print('Found a number greater than 4:', number)\n",
        "        break\n",
        "    position += 1\n",
        "else:  # break not called\n",
        "    print('No number greater than 4 found')"
      ]
    },
    {
      "cell_type": "code",
      "source": [
        "number"
      ],
      "metadata": {
        "colab": {
          "base_uri": "https://localhost:8080/"
        },
        "id": "wx8U6jVERJWg",
        "outputId": "f6d34767-185c-484c-a9c9-a8a991c7aaf4"
      },
      "execution_count": 2,
      "outputs": [
        {
          "output_type": "execute_result",
          "data": {
            "text/plain": [
              "5"
            ]
          },
          "metadata": {},
          "execution_count": 2
        }
      ]
    },
    {
      "cell_type": "code",
      "source": [
        "numbers = [1, 3]\n",
        "position = 0\n",
        "\n",
        "while position < len(numbers):\n",
        "    number = numbers[position]\n",
        "    if number > 4:  # Condition changed to checking if the number is greater than 4\n",
        "        print('Found a number greater than 4:', number)\n",
        "        break\n",
        "    position += 1\n",
        "else:  # break not called\n",
        "    print('No number greater than 4 found')"
      ],
      "metadata": {
        "colab": {
          "base_uri": "https://localhost:8080/"
        },
        "id": "8BqrmisARRkp",
        "outputId": "bff8d7fa-42d4-403e-e2fa-68b56e7902ad"
      },
      "execution_count": 3,
      "outputs": [
        {
          "output_type": "stream",
          "name": "stdout",
          "text": [
            "No number greater than 4 found\n"
          ]
        }
      ]
    },
    {
      "cell_type": "code",
      "source": [
        "word = 'thud'\n",
        "offset = 0\n",
        "while offset < len(word):\n",
        "    print(word[offset])\n",
        "    offset += 1"
      ],
      "metadata": {
        "colab": {
          "base_uri": "https://localhost:8080/"
        },
        "id": "y-r7sUJNSx3c",
        "outputId": "0f947f7a-6db2-464d-9895-37b5631c8604"
      },
      "execution_count": 4,
      "outputs": [
        {
          "output_type": "stream",
          "name": "stdout",
          "text": [
            "t\n",
            "h\n",
            "u\n",
            "d\n"
          ]
        }
      ]
    },
    {
      "cell_type": "code",
      "source": [
        "word = 'thud'\n",
        "word[0]"
      ],
      "metadata": {
        "colab": {
          "base_uri": "https://localhost:8080/",
          "height": 35
        },
        "id": "yPHFQ12FTHiA",
        "outputId": "47053ffa-a9cd-434e-aa4c-f0b4549894d7"
      },
      "execution_count": 6,
      "outputs": [
        {
          "output_type": "execute_result",
          "data": {
            "text/plain": [
              "'t'"
            ],
            "application/vnd.google.colaboratory.intrinsic+json": {
              "type": "string"
            }
          },
          "metadata": {},
          "execution_count": 6
        }
      ]
    },
    {
      "cell_type": "code",
      "source": [
        "word = 'thud'\n",
        "word[1]"
      ],
      "metadata": {
        "colab": {
          "base_uri": "https://localhost:8080/",
          "height": 35
        },
        "id": "GcP5IRPvTKz0",
        "outputId": "48d28129-68e2-4dca-c211-2b23d093aa3d"
      },
      "execution_count": 7,
      "outputs": [
        {
          "output_type": "execute_result",
          "data": {
            "text/plain": [
              "'h'"
            ],
            "application/vnd.google.colaboratory.intrinsic+json": {
              "type": "string"
            }
          },
          "metadata": {},
          "execution_count": 7
        }
      ]
    },
    {
      "cell_type": "code",
      "source": [
        "word = 'thud'\n",
        "word[2]"
      ],
      "metadata": {
        "colab": {
          "base_uri": "https://localhost:8080/",
          "height": 35
        },
        "id": "-Vii73AXTNEb",
        "outputId": "691b30d9-89e7-49fc-9c33-c4e9bc80b2ec"
      },
      "execution_count": 8,
      "outputs": [
        {
          "output_type": "execute_result",
          "data": {
            "text/plain": [
              "'u'"
            ],
            "application/vnd.google.colaboratory.intrinsic+json": {
              "type": "string"
            }
          },
          "metadata": {},
          "execution_count": 8
        }
      ]
    },
    {
      "cell_type": "code",
      "source": [
        "word = 'thud'\n",
        "word[3]"
      ],
      "metadata": {
        "colab": {
          "base_uri": "https://localhost:8080/",
          "height": 35
        },
        "id": "c-O-7NoKTO07",
        "outputId": "1378ed90-d819-4cd8-c421-c2747f3f43e1"
      },
      "execution_count": 9,
      "outputs": [
        {
          "output_type": "execute_result",
          "data": {
            "text/plain": [
              "'d'"
            ],
            "application/vnd.google.colaboratory.intrinsic+json": {
              "type": "string"
            }
          },
          "metadata": {},
          "execution_count": 9
        }
      ]
    },
    {
      "cell_type": "code",
      "source": [
        "offset"
      ],
      "metadata": {
        "colab": {
          "base_uri": "https://localhost:8080/"
        },
        "id": "dtSEylmqS1l-",
        "outputId": "86bff71f-60f0-473b-965a-57fd77e781eb"
      },
      "execution_count": 5,
      "outputs": [
        {
          "output_type": "execute_result",
          "data": {
            "text/plain": [
              "4"
            ]
          },
          "metadata": {},
          "execution_count": 5
        }
      ]
    },
    {
      "cell_type": "code",
      "source": [
        "word = 'thud'\n",
        "offset = 0\n",
        "while offset < len(word):\n",
        "    print(word[offset])\n",
        "    offset += 1"
      ],
      "metadata": {
        "colab": {
          "base_uri": "https://localhost:8080/"
        },
        "id": "5GHuZmWCTxZ7",
        "outputId": "56ca8590-1f2a-4dd9-bfa6-68543d0d7a6e"
      },
      "execution_count": 10,
      "outputs": [
        {
          "output_type": "stream",
          "name": "stdout",
          "text": [
            "t\n",
            "h\n",
            "u\n",
            "d\n"
          ]
        }
      ]
    },
    {
      "cell_type": "code",
      "source": [
        "word = 'thud'\n",
        "for letter in word:\n",
        "    print(letter)"
      ],
      "metadata": {
        "colab": {
          "base_uri": "https://localhost:8080/"
        },
        "id": "y9EaekY5UCvT",
        "outputId": "911c6395-d8fd-4a6c-ce44-49b274df090b"
      },
      "execution_count": 11,
      "outputs": [
        {
          "output_type": "stream",
          "name": "stdout",
          "text": [
            "t\n",
            "h\n",
            "u\n",
            "d\n"
          ]
        }
      ]
    },
    {
      "cell_type": "code",
      "source": [
        "word = 'thud'\n",
        "for letter in word:\n",
        "    if letter == 'u':\n",
        "        break\n",
        "    print(letter)"
      ],
      "metadata": {
        "colab": {
          "base_uri": "https://localhost:8080/"
        },
        "id": "aYt7vAaYWnoZ",
        "outputId": "46018d43-3a3d-470f-c8b3-a0461489b271"
      },
      "execution_count": 12,
      "outputs": [
        {
          "output_type": "stream",
          "name": "stdout",
          "text": [
            "t\n",
            "h\n"
          ]
        }
      ]
    },
    {
      "cell_type": "code",
      "source": [
        "word = 'thud'\n",
        "for i in word:\n",
        "    if i == 'u':\n",
        "        break\n",
        "    print(i)"
      ],
      "metadata": {
        "colab": {
          "base_uri": "https://localhost:8080/"
        },
        "id": "lYXKN0lJWrO_",
        "outputId": "1125ca97-c8c0-43fe-acee-f60483c3dcd0"
      },
      "execution_count": 13,
      "outputs": [
        {
          "output_type": "stream",
          "name": "stdout",
          "text": [
            "t\n",
            "h\n"
          ]
        }
      ]
    },
    {
      "cell_type": "code",
      "source": [
        "word = 'thud'\n",
        "for x in word:\n",
        "    if x == 'u':\n",
        "        break\n",
        "    print(x)"
      ],
      "metadata": {
        "colab": {
          "base_uri": "https://localhost:8080/"
        },
        "id": "sBhhpAQ2WvIl",
        "outputId": "00644c9d-0d7d-407e-acc4-6fa5bd106ccc"
      },
      "execution_count": 14,
      "outputs": [
        {
          "output_type": "stream",
          "name": "stdout",
          "text": [
            "t\n",
            "h\n"
          ]
        }
      ]
    },
    {
      "cell_type": "code",
      "source": [
        "word = 'thud'\n",
        "for item in word:\n",
        "    if item == 'u':\n",
        "        break\n",
        "    print(item)"
      ],
      "metadata": {
        "colab": {
          "base_uri": "https://localhost:8080/"
        },
        "id": "uj4vvHkyWxVn",
        "outputId": "925317e0-ed08-48f8-fd04-8f263e3c83d5"
      },
      "execution_count": 15,
      "outputs": [
        {
          "output_type": "stream",
          "name": "stdout",
          "text": [
            "t\n",
            "h\n"
          ]
        }
      ]
    },
    {
      "cell_type": "code",
      "source": [
        "# for SOME_NAME in ITERABLE_OBJECT\n",
        "\n",
        "# ITERABLE_OBJECT: string, list, dict"
      ],
      "metadata": {
        "id": "hILAm5zMW4ys"
      },
      "execution_count": null,
      "outputs": []
    },
    {
      "cell_type": "code",
      "source": [
        "lst_word = ['t', 'h', 'u', 'd']\n",
        "for x in lst_word:\n",
        "    if x == 'u':\n",
        "        break\n",
        "    print(x)"
      ],
      "metadata": {
        "colab": {
          "base_uri": "https://localhost:8080/"
        },
        "id": "Xw5cxeaLXHye",
        "outputId": "9064950b-8211-4be3-c0a8-8e17b47603c8"
      },
      "execution_count": 16,
      "outputs": [
        {
          "output_type": "stream",
          "name": "stdout",
          "text": [
            "t\n",
            "h\n"
          ]
        }
      ]
    },
    {
      "cell_type": "code",
      "source": [
        "lst_animals = ['cat', 'dog', 'lion', 'tiger']\n",
        "lst_insects = ['butterfly', 'roach', 'ants', 'beatle']\n",
        "\n",
        "for animal in lst_animals:\n",
        "    for insect in lst_insects:\n",
        "      print(animal, insect)\n",
        "\n",
        "# for cat\n",
        "# for insect in lst_insects:\n",
        "  #    print(animal, insect)\n",
        "\n",
        "\n",
        "# for dog\n",
        "# for insect in lst_insects:\n",
        "  #    print(animal, insect)\n",
        "\n",
        "# for lion\n",
        "# for insect in lst_insects:\n",
        "  #    print(animal, insect)"
      ],
      "metadata": {
        "colab": {
          "base_uri": "https://localhost:8080/"
        },
        "id": "QXURD9mEYPYi",
        "outputId": "8aa9ce46-4508-47d0-ab58-90c46ac6034c"
      },
      "execution_count": 18,
      "outputs": [
        {
          "output_type": "stream",
          "name": "stdout",
          "text": [
            "cat butterfly\n",
            "cat roach\n",
            "cat ants\n",
            "cat beatle\n",
            "dog butterfly\n",
            "dog roach\n",
            "dog ants\n",
            "dog beatle\n",
            "lion butterfly\n",
            "lion roach\n",
            "lion ants\n",
            "lion beatle\n",
            "tiger butterfly\n",
            "tiger roach\n",
            "tiger ants\n",
            "tiger beatle\n"
          ]
        }
      ]
    },
    {
      "cell_type": "code",
      "source": [
        "x + 200"
      ],
      "metadata": {
        "id": "GK3NM-izY3jb"
      },
      "execution_count": null,
      "outputs": []
    },
    {
      "cell_type": "code",
      "source": [
        "# lst_x = [1, 2, 3, 4, 5, ....... , 1_000_000]"
      ],
      "metadata": {
        "id": "SJyIEyWPZmbu"
      },
      "execution_count": null,
      "outputs": []
    },
    {
      "cell_type": "code",
      "source": [
        "# 1 + 200\n",
        "# 2 + 200\n",
        "# 3 + 200\n",
        "# 4 + 200\n",
        "# ...\n",
        "# 1_000_000 + 200"
      ],
      "metadata": {
        "id": "FzKd40zCZvhP"
      },
      "execution_count": null,
      "outputs": []
    },
    {
      "cell_type": "code",
      "source": [
        "\n",
        "for x in range(1,1_000_001):\n",
        "  x + 200"
      ],
      "metadata": {
        "id": "lydyQ_loZ3Wj"
      },
      "execution_count": null,
      "outputs": []
    },
    {
      "cell_type": "code",
      "source": [
        "word = 'thud'\n",
        "for letter in word:\n",
        "    if letter == 'u':\n",
        "        break\n",
        "    print(letter)"
      ],
      "metadata": {
        "colab": {
          "base_uri": "https://localhost:8080/"
        },
        "id": "9E8Y7qE0a9NF",
        "outputId": "c7103ae1-b645-4675-8870-5d91ba424391"
      },
      "execution_count": 21,
      "outputs": [
        {
          "output_type": "stream",
          "name": "stdout",
          "text": [
            "t\n",
            "h\n"
          ]
        }
      ]
    },
    {
      "cell_type": "code",
      "source": [
        "word = 'thud'\n",
        "for letter in word:\n",
        "    if letter == 'u':\n",
        "        continue\n",
        "    print(letter)"
      ],
      "metadata": {
        "colab": {
          "base_uri": "https://localhost:8080/"
        },
        "id": "_Dt-64bTamif",
        "outputId": "22dc1acf-d8bd-4f76-91ae-75a1c39afa04"
      },
      "execution_count": 20,
      "outputs": [
        {
          "output_type": "stream",
          "name": "stdout",
          "text": [
            "t\n",
            "h\n",
            "d\n"
          ]
        }
      ]
    },
    {
      "cell_type": "code",
      "source": [
        "for num in [0, 1, 2, 3, 4, 5]:\n",
        "\n",
        "    if num == 2:\n",
        "        continue   # skip printing 2\n",
        "\n",
        "    if num == 3:\n",
        "        pass       # do nothing, move on\n",
        "\n",
        "    if num == 4:\n",
        "        break      # exit the loop\n",
        "\n",
        "    print(num)"
      ],
      "metadata": {
        "colab": {
          "base_uri": "https://localhost:8080/"
        },
        "id": "1XfDsAxbbLLl",
        "outputId": "14df8427-fa13-4fd0-efb8-3b7d7b932da9"
      },
      "execution_count": 22,
      "outputs": [
        {
          "output_type": "stream",
          "name": "stdout",
          "text": [
            "0\n",
            "1\n",
            "3\n"
          ]
        }
      ]
    },
    {
      "cell_type": "code",
      "source": [
        "for x in range(0, 3):\n",
        "    print(x)\n"
      ],
      "metadata": {
        "colab": {
          "base_uri": "https://localhost:8080/"
        },
        "id": "5N6V9yUTceSe",
        "outputId": "8e029151-3dd2-489e-aa45-c2f42754af30"
      },
      "execution_count": 23,
      "outputs": [
        {
          "output_type": "stream",
          "name": "stdout",
          "text": [
            "0\n",
            "1\n",
            "2\n"
          ]
        }
      ]
    },
    {
      "cell_type": "code",
      "source": [
        "list( range(0, 3) )"
      ],
      "metadata": {
        "colab": {
          "base_uri": "https://localhost:8080/"
        },
        "id": "dcOja5SPcnjd",
        "outputId": "f591589b-9f25-4a2d-fc29-8097be24997f"
      },
      "execution_count": 24,
      "outputs": [
        {
          "output_type": "execute_result",
          "data": {
            "text/plain": [
              "[0, 1, 2]"
            ]
          },
          "metadata": {},
          "execution_count": 24
        }
      ]
    },
    {
      "cell_type": "code",
      "source": [
        "list( range(3) )"
      ],
      "metadata": {
        "colab": {
          "base_uri": "https://localhost:8080/"
        },
        "id": "NxyV_nIRdHp-",
        "outputId": "df03a50a-e605-49c4-99cf-168376433ef1"
      },
      "execution_count": 25,
      "outputs": [
        {
          "output_type": "execute_result",
          "data": {
            "text/plain": [
              "[0, 1, 2]"
            ]
          },
          "metadata": {},
          "execution_count": 25
        }
      ]
    },
    {
      "cell_type": "code",
      "source": [
        "list( range(0, 10, 1) )"
      ],
      "metadata": {
        "colab": {
          "base_uri": "https://localhost:8080/"
        },
        "id": "pbuTAAjadXOJ",
        "outputId": "b98ac208-633a-405c-e4f1-514fdce3b775"
      },
      "execution_count": 26,
      "outputs": [
        {
          "output_type": "execute_result",
          "data": {
            "text/plain": [
              "[0, 1, 2, 3, 4, 5, 6, 7, 8, 9]"
            ]
          },
          "metadata": {},
          "execution_count": 26
        }
      ]
    },
    {
      "cell_type": "code",
      "source": [
        "list( range(0, 10, 2) )"
      ],
      "metadata": {
        "colab": {
          "base_uri": "https://localhost:8080/"
        },
        "id": "YLpJ1JekdRIb",
        "outputId": "64ba08b6-8147-4a27-ad12-2813fd344efe"
      },
      "execution_count": 27,
      "outputs": [
        {
          "output_type": "execute_result",
          "data": {
            "text/plain": [
              "[0, 2, 4, 6, 8]"
            ]
          },
          "metadata": {},
          "execution_count": 27
        }
      ]
    },
    {
      "cell_type": "code",
      "source": [
        "list( range(1, 10, 2) )"
      ],
      "metadata": {
        "colab": {
          "base_uri": "https://localhost:8080/"
        },
        "id": "VyV7eu2_dekM",
        "outputId": "11f56e48-7be3-409d-a53a-62d96b4fcb4f"
      },
      "execution_count": 28,
      "outputs": [
        {
          "output_type": "execute_result",
          "data": {
            "text/plain": [
              "[1, 3, 5, 7, 9]"
            ]
          },
          "metadata": {},
          "execution_count": 28
        }
      ]
    },
    {
      "cell_type": "code",
      "source": [
        "word = 'thud'\n",
        "for letter in word:\n",
        "    if letter == 'x':\n",
        "        print(\"Eek! An 'x'!\")\n",
        "        break\n",
        "    print(letter)\n",
        "else:\n",
        "    print(\"No 'x' in there.\")"
      ],
      "metadata": {
        "colab": {
          "base_uri": "https://localhost:8080/"
        },
        "id": "Wc7z3YVfd_23",
        "outputId": "1d623e49-3ca1-45fb-b2f9-2fc11eb6bea7"
      },
      "execution_count": 29,
      "outputs": [
        {
          "output_type": "stream",
          "name": "stdout",
          "text": [
            "t\n",
            "h\n",
            "u\n",
            "d\n",
            "No 'x' in there.\n"
          ]
        }
      ]
    },
    {
      "cell_type": "code",
      "source": [
        "word = 'thxud'\n",
        "for letter in word:\n",
        "    if letter == 'x':\n",
        "        print(\"Eek! An 'x'!\")\n",
        "        break\n",
        "    print(letter)\n",
        "else:\n",
        "    print(\"No 'x' in there.\")"
      ],
      "metadata": {
        "colab": {
          "base_uri": "https://localhost:8080/"
        },
        "id": "1A8KWCsleH9f",
        "outputId": "8d09f8c6-c710-426d-a05a-3d007079fe45"
      },
      "execution_count": 30,
      "outputs": [
        {
          "output_type": "stream",
          "name": "stdout",
          "text": [
            "t\n",
            "h\n",
            "Eek! An 'x'!\n"
          ]
        }
      ]
    },
    {
      "cell_type": "code",
      "source": [
        "squares = [ x**2 for x in range(5) ]\n",
        "squares"
      ],
      "metadata": {
        "colab": {
          "base_uri": "https://localhost:8080/"
        },
        "id": "M89Mi5xMe6wa",
        "outputId": "b22e3cac-34e3-40c9-b5fc-17246ae7316d"
      },
      "execution_count": 31,
      "outputs": [
        {
          "output_type": "execute_result",
          "data": {
            "text/plain": [
              "[0, 1, 4, 9, 16]"
            ]
          },
          "metadata": {},
          "execution_count": 31
        }
      ]
    },
    {
      "cell_type": "code",
      "source": [
        "div = [ x/2 for x in range(5) ]\n",
        "div"
      ],
      "metadata": {
        "colab": {
          "base_uri": "https://localhost:8080/"
        },
        "id": "WtSJ6nOufQ5v",
        "outputId": "55c5fda3-9047-4141-a3a7-46ddd39d1fac"
      },
      "execution_count": 32,
      "outputs": [
        {
          "output_type": "execute_result",
          "data": {
            "text/plain": [
              "[0.0, 0.5, 1.0, 1.5, 2.0]"
            ]
          },
          "metadata": {},
          "execution_count": 32
        }
      ]
    },
    {
      "cell_type": "code",
      "source": [
        "numbers = [1, 2, 3, 4, 5, 6]\n",
        "evens = [item for item in numbers if item != 2]\n",
        "evens"
      ],
      "metadata": {
        "colab": {
          "base_uri": "https://localhost:8080/"
        },
        "id": "B5hBX8iZgKbd",
        "outputId": "ca8c4aa3-de34-4980-cd27-243dc984086e"
      },
      "execution_count": 35,
      "outputs": [
        {
          "output_type": "execute_result",
          "data": {
            "text/plain": [
              "[1, 3, 4, 5, 6]"
            ]
          },
          "metadata": {},
          "execution_count": 35
        }
      ]
    },
    {
      "cell_type": "code",
      "source": [
        "numbers = [1, 2, 3, 4, 5, 6]\n",
        "evens_times_two = [item * 2 for item in numbers if item != 2]\n",
        "evens_times_two"
      ],
      "metadata": {
        "colab": {
          "base_uri": "https://localhost:8080/"
        },
        "id": "QriUZot7gkWv",
        "outputId": "b40a2875-6f1d-4b05-9eb2-5f26f34b7437"
      },
      "execution_count": 36,
      "outputs": [
        {
          "output_type": "execute_result",
          "data": {
            "text/plain": [
              "[2, 6, 8, 10, 12]"
            ]
          },
          "metadata": {},
          "execution_count": 36
        }
      ]
    },
    {
      "cell_type": "code",
      "source": [
        "squares_dict = {x: x**2 for x in range(5)}\n",
        "squares_dict"
      ],
      "metadata": {
        "colab": {
          "base_uri": "https://localhost:8080/"
        },
        "id": "fjD6ZndWg7sr",
        "outputId": "f201dac0-2532-4a69-c355-434b23d9de53"
      },
      "execution_count": 37,
      "outputs": [
        {
          "output_type": "execute_result",
          "data": {
            "text/plain": [
              "{0: 0, 1: 1, 2: 4, 3: 9, 4: 16}"
            ]
          },
          "metadata": {},
          "execution_count": 37
        }
      ]
    },
    {
      "cell_type": "code",
      "source": [
        "my_dict = {'a': 1, 'b': 2, 'c': 3, 'd': 4}"
      ],
      "metadata": {
        "id": "t8wrQidMh7pJ"
      },
      "execution_count": 38,
      "outputs": []
    },
    {
      "cell_type": "code",
      "source": [
        "my_dict"
      ],
      "metadata": {
        "colab": {
          "base_uri": "https://localhost:8080/"
        },
        "id": "YV1pOgwCh93N",
        "outputId": "c1f746a6-eca3-4129-9e27-ae2b4f51e641"
      },
      "execution_count": 39,
      "outputs": [
        {
          "output_type": "execute_result",
          "data": {
            "text/plain": [
              "{'a': 1, 'b': 2, 'c': 3, 'd': 4}"
            ]
          },
          "metadata": {},
          "execution_count": 39
        }
      ]
    },
    {
      "cell_type": "code",
      "source": [
        "my_dict.items()"
      ],
      "metadata": {
        "colab": {
          "base_uri": "https://localhost:8080/"
        },
        "id": "5_Yk4O5kh_P_",
        "outputId": "cdc3c724-f485-4c73-b228-9739b93a2ee5"
      },
      "execution_count": 40,
      "outputs": [
        {
          "output_type": "execute_result",
          "data": {
            "text/plain": [
              "dict_items([('a', 1), ('b', 2), ('c', 3), ('d', 4)])"
            ]
          },
          "metadata": {},
          "execution_count": 40
        }
      ]
    },
    {
      "cell_type": "code",
      "source": [
        "filtered_dict = { k : v for k, v in my_dict.items()  }"
      ],
      "metadata": {
        "id": "ZEcYGdKMiEJj"
      },
      "execution_count": 41,
      "outputs": []
    },
    {
      "cell_type": "code",
      "source": [
        "filtered_dict"
      ],
      "metadata": {
        "colab": {
          "base_uri": "https://localhost:8080/"
        },
        "id": "zQbqRcvriUtx",
        "outputId": "0e5203c5-5077-4933-ae49-ea8e4f5fddaf"
      },
      "execution_count": 42,
      "outputs": [
        {
          "output_type": "execute_result",
          "data": {
            "text/plain": [
              "{'a': 1, 'b': 2, 'c': 3, 'd': 4}"
            ]
          },
          "metadata": {},
          "execution_count": 42
        }
      ]
    },
    {
      "cell_type": "code",
      "source": [
        "filtered_dict = { k : v for k, v in my_dict.items() if v != 2 }\n",
        "\n",
        "filtered_dict"
      ],
      "metadata": {
        "colab": {
          "base_uri": "https://localhost:8080/"
        },
        "id": "A2oHBRNcjFCD",
        "outputId": "01d2ca54-f634-4e21-c711-4ecb5e87fe00"
      },
      "execution_count": 43,
      "outputs": [
        {
          "output_type": "execute_result",
          "data": {
            "text/plain": [
              "{'a': 1, 'c': 3, 'd': 4}"
            ]
          },
          "metadata": {},
          "execution_count": 43
        }
      ]
    },
    {
      "cell_type": "code",
      "source": [
        "filtered_dict_new = { k : v for k, v in my_dict.items() if k != 'c' }\n",
        "\n",
        "filtered_dict_new"
      ],
      "metadata": {
        "colab": {
          "base_uri": "https://localhost:8080/"
        },
        "id": "JOVlLPsCjYHS",
        "outputId": "6ef55dd7-f209-43d4-af2d-0488fbbc833e"
      },
      "execution_count": 44,
      "outputs": [
        {
          "output_type": "execute_result",
          "data": {
            "text/plain": [
              "{'a': 1, 'b': 2, 'd': 4}"
            ]
          },
          "metadata": {},
          "execution_count": 44
        }
      ]
    },
    {
      "cell_type": "code",
      "source": [
        "original_dict = {'a': 1, 'b': 2, 'c': 3}\n",
        "swapped_dict = {v: k for k, v in original_dict.items()}"
      ],
      "metadata": {
        "id": "Nf0uOIeDjnX5"
      },
      "execution_count": 45,
      "outputs": []
    },
    {
      "cell_type": "code",
      "source": [
        "swapped_dict"
      ],
      "metadata": {
        "colab": {
          "base_uri": "https://localhost:8080/"
        },
        "id": "Q8HTuQa3jxLG",
        "outputId": "ac3e2433-d2b0-447f-adde-15ac0c547dce"
      },
      "execution_count": 46,
      "outputs": [
        {
          "output_type": "execute_result",
          "data": {
            "text/plain": [
              "{1: 'a', 2: 'b', 3: 'c'}"
            ]
          },
          "metadata": {},
          "execution_count": 46
        }
      ]
    }
  ]
}