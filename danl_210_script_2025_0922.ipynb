{
  "nbformat": 4,
  "nbformat_minor": 0,
  "metadata": {
    "colab": {
      "provenance": [],
      "authorship_tag": "ABX9TyP2K9UiBaK/rnCB+J09tqNJ",
      "include_colab_link": true
    },
    "kernelspec": {
      "name": "python3",
      "display_name": "Python 3"
    },
    "language_info": {
      "name": "python"
    }
  },
  "cells": [
    {
      "cell_type": "markdown",
      "metadata": {
        "id": "view-in-github",
        "colab_type": "text"
      },
      "source": [
        "<a href=\"https://colab.research.google.com/github/bcdanl/299-code/blob/main/danl_210_script_2025_0922.ipynb\" target=\"_parent\"><img src=\"https://colab.research.google.com/assets/colab-badge.svg\" alt=\"Open In Colab\"/></a>"
      ]
    },
    {
      "cell_type": "markdown",
      "source": [
        "## Q1"
      ],
      "metadata": {
        "id": "XggIer6bSxCT"
      }
    },
    {
      "cell_type": "code",
      "execution_count": 1,
      "metadata": {
        "colab": {
          "base_uri": "https://localhost:8080/"
        },
        "id": "Ezytz8ijSgdK",
        "outputId": "a16fc73b-fbe8-45d7-e4b0-083255e56983"
      },
      "outputs": [
        {
          "output_type": "execute_result",
          "data": {
            "text/plain": [
              "-1.1428571428571428"
            ]
          },
          "metadata": {},
          "execution_count": 1
        }
      ],
      "source": [
        "2 ** 5 / ( 7 * ( 4 - 2**3 ) )"
      ]
    },
    {
      "cell_type": "markdown",
      "source": [
        "## Q2"
      ],
      "metadata": {
        "id": "d1IcvPfWTEfl"
      }
    },
    {
      "cell_type": "code",
      "source": [
        "20 == '20'"
      ],
      "metadata": {
        "colab": {
          "base_uri": "https://localhost:8080/"
        },
        "id": "hyKhJfk6TFh2",
        "outputId": "242515a9-f1b8-4722-bf6c-a3f5c71fcc7e"
      },
      "execution_count": 2,
      "outputs": [
        {
          "output_type": "execute_result",
          "data": {
            "text/plain": [
              "False"
            ]
          },
          "metadata": {},
          "execution_count": 2
        }
      ]
    },
    {
      "cell_type": "code",
      "source": [
        "x = 4.0\n",
        "y = .5"
      ],
      "metadata": {
        "id": "tTnZWmLoTjLO"
      },
      "execution_count": 4,
      "outputs": []
    },
    {
      "cell_type": "code",
      "source": [
        "x < y"
      ],
      "metadata": {
        "colab": {
          "base_uri": "https://localhost:8080/"
        },
        "id": "SZJShS66T5br",
        "outputId": "661023a3-22d8-45b7-a6da-c81ecf6f336a"
      },
      "execution_count": 5,
      "outputs": [
        {
          "output_type": "execute_result",
          "data": {
            "text/plain": [
              "False"
            ]
          },
          "metadata": {},
          "execution_count": 5
        }
      ]
    },
    {
      "cell_type": "code",
      "source": [
        "3*y < x"
      ],
      "metadata": {
        "colab": {
          "base_uri": "https://localhost:8080/"
        },
        "id": "In84pwvhT7uC",
        "outputId": "539e3d13-2f04-46a6-d2c3-b6a444a0cab5"
      },
      "execution_count": 6,
      "outputs": [
        {
          "output_type": "execute_result",
          "data": {
            "text/plain": [
              "True"
            ]
          },
          "metadata": {},
          "execution_count": 6
        }
      ]
    },
    {
      "cell_type": "code",
      "source": [
        "x < y or 3*y < x\n"
      ],
      "metadata": {
        "id": "vIiXqMUCT9Fb"
      },
      "execution_count": null,
      "outputs": []
    },
    {
      "cell_type": "code",
      "source": [
        "False or True"
      ],
      "metadata": {
        "colab": {
          "base_uri": "https://localhost:8080/"
        },
        "id": "EQHLqI_mT-sy",
        "outputId": "5f286f58-e04c-4a55-c818-f0f22a8933b2"
      },
      "execution_count": 7,
      "outputs": [
        {
          "output_type": "execute_result",
          "data": {
            "text/plain": [
              "True"
            ]
          },
          "metadata": {},
          "execution_count": 7
        }
      ]
    },
    {
      "cell_type": "code",
      "source": [
        "False or False"
      ],
      "metadata": {
        "colab": {
          "base_uri": "https://localhost:8080/"
        },
        "id": "eaO_XPvvUsYs",
        "outputId": "167d3487-f4ae-4f99-85f2-3df067f7fede"
      },
      "execution_count": 8,
      "outputs": [
        {
          "output_type": "execute_result",
          "data": {
            "text/plain": [
              "False"
            ]
          },
          "metadata": {},
          "execution_count": 8
        }
      ]
    },
    {
      "cell_type": "code",
      "source": [
        "True or True"
      ],
      "metadata": {
        "colab": {
          "base_uri": "https://localhost:8080/"
        },
        "id": "RYGfYulAUuGP",
        "outputId": "3437f104-c161-48c9-b412-eb7075a4cbc9"
      },
      "execution_count": 9,
      "outputs": [
        {
          "output_type": "execute_result",
          "data": {
            "text/plain": [
              "True"
            ]
          },
          "metadata": {},
          "execution_count": 9
        }
      ]
    },
    {
      "cell_type": "code",
      "source": [
        "False and True"
      ],
      "metadata": {
        "colab": {
          "base_uri": "https://localhost:8080/"
        },
        "id": "v8f3zdbHUv8T",
        "outputId": "24fa1a0c-fcb9-4f5e-bc4e-6b9a182dabe1"
      },
      "execution_count": 10,
      "outputs": [
        {
          "output_type": "execute_result",
          "data": {
            "text/plain": [
              "False"
            ]
          },
          "metadata": {},
          "execution_count": 10
        }
      ]
    },
    {
      "cell_type": "markdown",
      "source": [
        "## Q3"
      ],
      "metadata": {
        "id": "wcOCFo22VIVa"
      }
    },
    {
      "cell_type": "code",
      "source": [
        "fare = \"$10.00\"\n",
        "tip = \"2.00$\"\n",
        "tax = \"$ 0.80\""
      ],
      "metadata": {
        "id": "GnkeXdIdVJG5"
      },
      "execution_count": 11,
      "outputs": []
    },
    {
      "cell_type": "code",
      "source": [
        "fare[0]"
      ],
      "metadata": {
        "colab": {
          "base_uri": "https://localhost:8080/",
          "height": 35
        },
        "id": "ho-0weFTWaxk",
        "outputId": "2f0a03b4-3570-4431-e640-e65a55311d8c"
      },
      "execution_count": 14,
      "outputs": [
        {
          "output_type": "execute_result",
          "data": {
            "text/plain": [
              "'$'"
            ],
            "application/vnd.google.colaboratory.intrinsic+json": {
              "type": "string"
            }
          },
          "metadata": {},
          "execution_count": 14
        }
      ]
    },
    {
      "cell_type": "code",
      "source": [
        "fare[1]"
      ],
      "metadata": {
        "colab": {
          "base_uri": "https://localhost:8080/",
          "height": 35
        },
        "id": "ECRS_CgWWYIT",
        "outputId": "3d894344-17a8-4c39-9a1d-797fb0fe1267"
      },
      "execution_count": 13,
      "outputs": [
        {
          "output_type": "execute_result",
          "data": {
            "text/plain": [
              "'1'"
            ],
            "application/vnd.google.colaboratory.intrinsic+json": {
              "type": "string"
            }
          },
          "metadata": {},
          "execution_count": 13
        }
      ]
    },
    {
      "cell_type": "code",
      "source": [
        "tip[-1]"
      ],
      "metadata": {
        "colab": {
          "base_uri": "https://localhost:8080/",
          "height": 35
        },
        "id": "niEOOmHwYlza",
        "outputId": "f35201dd-c147-4234-ce11-91494de4461c"
      },
      "execution_count": 22,
      "outputs": [
        {
          "output_type": "execute_result",
          "data": {
            "text/plain": [
              "'$'"
            ],
            "application/vnd.google.colaboratory.intrinsic+json": {
              "type": "string"
            }
          },
          "metadata": {},
          "execution_count": 22
        }
      ]
    },
    {
      "cell_type": "code",
      "source": [
        "fare_qq = \"'$10.00'\"\n"
      ],
      "metadata": {
        "id": "HGaKJ9VAWrUJ"
      },
      "execution_count": 15,
      "outputs": []
    },
    {
      "cell_type": "code",
      "source": [
        "fare_qq[1]"
      ],
      "metadata": {
        "colab": {
          "base_uri": "https://localhost:8080/",
          "height": 35
        },
        "id": "01Whkv2GWvB6",
        "outputId": "03b1c595-0519-4434-948a-5134bb757f68"
      },
      "execution_count": 16,
      "outputs": [
        {
          "output_type": "execute_result",
          "data": {
            "text/plain": [
              "'$'"
            ],
            "application/vnd.google.colaboratory.intrinsic+json": {
              "type": "string"
            }
          },
          "metadata": {},
          "execution_count": 16
        }
      ]
    },
    {
      "cell_type": "code",
      "source": [
        "fare_qq2 = \"\"$10.00\"\"\n"
      ],
      "metadata": {
        "colab": {
          "base_uri": "https://localhost:8080/",
          "height": 105
        },
        "id": "YKm620rAW3tA",
        "outputId": "6fdbde3e-424d-405b-e16f-205bbfa2cd47"
      },
      "execution_count": 17,
      "outputs": [
        {
          "output_type": "error",
          "ename": "SyntaxError",
          "evalue": "invalid syntax (ipython-input-33299161.py, line 1)",
          "traceback": [
            "\u001b[0;36m  File \u001b[0;32m\"/tmp/ipython-input-33299161.py\"\u001b[0;36m, line \u001b[0;32m1\u001b[0m\n\u001b[0;31m    fare_qq2 = \"\"$10.00\"\"\u001b[0m\n\u001b[0m                 ^\u001b[0m\n\u001b[0;31mSyntaxError\u001b[0m\u001b[0;31m:\u001b[0m invalid syntax\n"
          ]
        }
      ]
    },
    {
      "cell_type": "code",
      "source": [
        "fare_qq2 = '\"$10.00\"'\n"
      ],
      "metadata": {
        "id": "HXRoAh2PXAE7"
      },
      "execution_count": 18,
      "outputs": []
    },
    {
      "cell_type": "code",
      "source": [
        "fare_qq2"
      ],
      "metadata": {
        "colab": {
          "base_uri": "https://localhost:8080/",
          "height": 35
        },
        "id": "_YGGukl6XCVM",
        "outputId": "4e34c9d3-fae0-4155-9f8a-d007d4c02a67"
      },
      "execution_count": 19,
      "outputs": [
        {
          "output_type": "execute_result",
          "data": {
            "text/plain": [
              "'\"$10.00\"'"
            ],
            "application/vnd.google.colaboratory.intrinsic+json": {
              "type": "string"
            }
          },
          "metadata": {},
          "execution_count": 19
        }
      ]
    },
    {
      "cell_type": "markdown",
      "source": [
        "Step 1.\n",
        "use slicing to get only numbers (i.e., removing $ and unncessary space)"
      ],
      "metadata": {
        "id": "j_TeQyQwXexJ"
      }
    },
    {
      "cell_type": "code",
      "source": [
        "fare[1:6]"
      ],
      "metadata": {
        "colab": {
          "base_uri": "https://localhost:8080/",
          "height": 35
        },
        "id": "6_rnMuvOXyAt",
        "outputId": "9f5d2c3d-5932-415d-b69a-642e383fc9d6"
      },
      "execution_count": 20,
      "outputs": [
        {
          "output_type": "execute_result",
          "data": {
            "text/plain": [
              "'10.00'"
            ],
            "application/vnd.google.colaboratory.intrinsic+json": {
              "type": "string"
            }
          },
          "metadata": {},
          "execution_count": 20
        }
      ]
    },
    {
      "cell_type": "code",
      "source": [
        "fare[1:]"
      ],
      "metadata": {
        "colab": {
          "base_uri": "https://localhost:8080/",
          "height": 35
        },
        "id": "-SfRp68sX0W9",
        "outputId": "f313a25d-a1cf-45d8-9ad9-bb8b9204943a"
      },
      "execution_count": 21,
      "outputs": [
        {
          "output_type": "execute_result",
          "data": {
            "text/plain": [
              "'10.00'"
            ],
            "application/vnd.google.colaboratory.intrinsic+json": {
              "type": "string"
            }
          },
          "metadata": {},
          "execution_count": 21
        }
      ]
    },
    {
      "cell_type": "code",
      "source": [
        "tip[:-1]"
      ],
      "metadata": {
        "colab": {
          "base_uri": "https://localhost:8080/",
          "height": 35
        },
        "id": "pVbI6-hBYgEr",
        "outputId": "8a576850-3824-4a30-d3a5-aa600b7cabee"
      },
      "execution_count": 24,
      "outputs": [
        {
          "output_type": "execute_result",
          "data": {
            "text/plain": [
              "'2.00'"
            ],
            "application/vnd.google.colaboratory.intrinsic+json": {
              "type": "string"
            }
          },
          "metadata": {},
          "execution_count": 24
        }
      ]
    },
    {
      "cell_type": "code",
      "source": [
        "len(tip)"
      ],
      "metadata": {
        "colab": {
          "base_uri": "https://localhost:8080/"
        },
        "id": "vAS5m4vTY3Gn",
        "outputId": "61a805bc-ab2c-44b2-b311-7571300abaea"
      },
      "execution_count": 28,
      "outputs": [
        {
          "output_type": "execute_result",
          "data": {
            "text/plain": [
              "5"
            ]
          },
          "metadata": {},
          "execution_count": 28
        }
      ]
    },
    {
      "cell_type": "code",
      "source": [
        "tip[:4]"
      ],
      "metadata": {
        "colab": {
          "base_uri": "https://localhost:8080/",
          "height": 35
        },
        "id": "85uL4KSnYtoA",
        "outputId": "e73a8131-48c3-48bf-ef03-e01d3c54a2bc"
      },
      "execution_count": 26,
      "outputs": [
        {
          "output_type": "execute_result",
          "data": {
            "text/plain": [
              "'2.00'"
            ],
            "application/vnd.google.colaboratory.intrinsic+json": {
              "type": "string"
            }
          },
          "metadata": {},
          "execution_count": 26
        }
      ]
    },
    {
      "cell_type": "code",
      "source": [
        "tax[2:]"
      ],
      "metadata": {
        "colab": {
          "base_uri": "https://localhost:8080/",
          "height": 35
        },
        "id": "_McNLIl9ZKgf",
        "outputId": "98f319d0-158f-48ef-b1c2-c31cde811b25"
      },
      "execution_count": 29,
      "outputs": [
        {
          "output_type": "execute_result",
          "data": {
            "text/plain": [
              "'0.80'"
            ],
            "application/vnd.google.colaboratory.intrinsic+json": {
              "type": "string"
            }
          },
          "metadata": {},
          "execution_count": 29
        }
      ]
    },
    {
      "cell_type": "code",
      "source": [
        "fare_sub = fare[1:]\n",
        "tip_sub = tip[:-1]\n",
        "tax_sub = tax[2:]\n"
      ],
      "metadata": {
        "id": "CUmJJ2aYVWQO"
      },
      "execution_count": 30,
      "outputs": []
    },
    {
      "cell_type": "code",
      "source": [
        "fare_sub"
      ],
      "metadata": {
        "colab": {
          "base_uri": "https://localhost:8080/",
          "height": 35
        },
        "id": "PMiVzaRWXU3P",
        "outputId": "5c480377-0d55-464e-bc05-2dd831761e74"
      },
      "execution_count": 31,
      "outputs": [
        {
          "output_type": "execute_result",
          "data": {
            "text/plain": [
              "'10.00'"
            ],
            "application/vnd.google.colaboratory.intrinsic+json": {
              "type": "string"
            }
          },
          "metadata": {},
          "execution_count": 31
        }
      ]
    },
    {
      "cell_type": "code",
      "source": [
        "tip_sub"
      ],
      "metadata": {
        "colab": {
          "base_uri": "https://localhost:8080/",
          "height": 35
        },
        "id": "7pxI6N0MZeEm",
        "outputId": "295c5f70-7b49-47b3-95f9-b232cf9f84fb"
      },
      "execution_count": 32,
      "outputs": [
        {
          "output_type": "execute_result",
          "data": {
            "text/plain": [
              "'2.00'"
            ],
            "application/vnd.google.colaboratory.intrinsic+json": {
              "type": "string"
            }
          },
          "metadata": {},
          "execution_count": 32
        }
      ]
    },
    {
      "cell_type": "code",
      "source": [
        "tax_sub"
      ],
      "metadata": {
        "colab": {
          "base_uri": "https://localhost:8080/",
          "height": 35
        },
        "id": "p6_0zBaeZeoI",
        "outputId": "a4f1c493-1239-41fa-d772-64fc82335c20"
      },
      "execution_count": 33,
      "outputs": [
        {
          "output_type": "execute_result",
          "data": {
            "text/plain": [
              "'0.80'"
            ],
            "application/vnd.google.colaboratory.intrinsic+json": {
              "type": "string"
            }
          },
          "metadata": {},
          "execution_count": 33
        }
      ]
    },
    {
      "cell_type": "code",
      "source": [
        "fare_sub + tip_sub + tax_sub"
      ],
      "metadata": {
        "colab": {
          "base_uri": "https://localhost:8080/",
          "height": 35
        },
        "id": "5l5nKr9SZu4P",
        "outputId": "4198356c-a9e8-4acf-e878-92be5e710a66"
      },
      "execution_count": 34,
      "outputs": [
        {
          "output_type": "execute_result",
          "data": {
            "text/plain": [
              "'10.002.000.80'"
            ],
            "application/vnd.google.colaboratory.intrinsic+json": {
              "type": "string"
            }
          },
          "metadata": {},
          "execution_count": 34
        }
      ]
    },
    {
      "cell_type": "markdown",
      "source": [
        "Step 2.\n",
        "Convert fare_sub,  tip_sub, tax_sub into float-type data"
      ],
      "metadata": {
        "id": "24o5eWpKZ0xu"
      }
    },
    {
      "cell_type": "code",
      "source": [
        "fare_n = float(fare_sub)\n",
        "fare_n"
      ],
      "metadata": {
        "colab": {
          "base_uri": "https://localhost:8080/"
        },
        "id": "MAXNNI03Z0eu",
        "outputId": "0dbaae7f-9c56-47a4-bab0-95cbd6d5f9db"
      },
      "execution_count": 35,
      "outputs": [
        {
          "output_type": "execute_result",
          "data": {
            "text/plain": [
              "10.0"
            ]
          },
          "metadata": {},
          "execution_count": 35
        }
      ]
    },
    {
      "cell_type": "code",
      "source": [
        "tip_n = float(tip_sub)\n",
        "tip_n"
      ],
      "metadata": {
        "colab": {
          "base_uri": "https://localhost:8080/"
        },
        "id": "WKq04GeNaJsQ",
        "outputId": "136b2548-76a7-426b-e973-41ae24a25358"
      },
      "execution_count": 36,
      "outputs": [
        {
          "output_type": "execute_result",
          "data": {
            "text/plain": [
              "2.0"
            ]
          },
          "metadata": {},
          "execution_count": 36
        }
      ]
    },
    {
      "cell_type": "code",
      "source": [
        "tax_n = float(tax_sub)\n",
        "tax_n"
      ],
      "metadata": {
        "colab": {
          "base_uri": "https://localhost:8080/"
        },
        "id": "lizSkfNSaS_r",
        "outputId": "aee699d4-dd7d-4d3d-c38c-31e6a4d3cf5c"
      },
      "execution_count": 38,
      "outputs": [
        {
          "output_type": "execute_result",
          "data": {
            "text/plain": [
              "0.8"
            ]
          },
          "metadata": {},
          "execution_count": 38
        }
      ]
    },
    {
      "cell_type": "markdown",
      "source": [
        "Step 3. Calculate the sum of fare_n, tip_n, and tax_n, and then assign the result to `tot`\n"
      ],
      "metadata": {
        "id": "dvxQCTnFaZGU"
      }
    },
    {
      "cell_type": "code",
      "source": [
        "tot = fare_n + tip_n + tax_n\n",
        "tot"
      ],
      "metadata": {
        "colab": {
          "base_uri": "https://localhost:8080/"
        },
        "id": "B4RLuJ4HaYm8",
        "outputId": "9d3a95ec-b8c1-49d6-b7cb-0ac8d151dcf7"
      },
      "execution_count": 39,
      "outputs": [
        {
          "output_type": "execute_result",
          "data": {
            "text/plain": [
              "12.8"
            ]
          },
          "metadata": {},
          "execution_count": 39
        }
      ]
    },
    {
      "cell_type": "markdown",
      "source": [
        "Step 4. use `print()` and `tot` to print the given message"
      ],
      "metadata": {
        "id": "Pi5iI0ataqyW"
      }
    },
    {
      "cell_type": "code",
      "source": [
        "print(\"The total trip cost is: $\", tot)"
      ],
      "metadata": {
        "colab": {
          "base_uri": "https://localhost:8080/"
        },
        "id": "rq-oOzXsaqOS",
        "outputId": "80627c5a-429b-43c3-cb3a-58410a7f67fa"
      },
      "execution_count": 40,
      "outputs": [
        {
          "output_type": "stream",
          "name": "stdout",
          "text": [
            "The total trip cost is: $ 12.8\n"
          ]
        }
      ]
    },
    {
      "cell_type": "code",
      "source": [
        "print(\"The total trip cost is: $\", tot, sep = ' ')"
      ],
      "metadata": {
        "colab": {
          "base_uri": "https://localhost:8080/"
        },
        "id": "EcnJjkCPdJ88",
        "outputId": "8567661a-118f-43c5-8fe8-ee805e3dccb7"
      },
      "execution_count": 41,
      "outputs": [
        {
          "output_type": "stream",
          "name": "stdout",
          "text": [
            "The total trip cost is: $ 12.8\n"
          ]
        }
      ]
    },
    {
      "cell_type": "code",
      "source": [
        "print(\"The total trip cost is: $\", tot, sep = '')"
      ],
      "metadata": {
        "colab": {
          "base_uri": "https://localhost:8080/"
        },
        "id": "Yg04xEuZdJ6M",
        "outputId": "6925abb1-1818-4aac-cf91-aba5cf1f8c85"
      },
      "execution_count": 42,
      "outputs": [
        {
          "output_type": "stream",
          "name": "stdout",
          "text": [
            "The total trip cost is: $12.8\n"
          ]
        }
      ]
    },
    {
      "cell_type": "code",
      "source": [
        "print(\"The total trip cost is: $\", tot, '0', sep = '')"
      ],
      "metadata": {
        "colab": {
          "base_uri": "https://localhost:8080/"
        },
        "id": "ZCGJp8PIdJBU",
        "outputId": "f3273e8b-e36c-4596-a65c-cc35af32138e"
      },
      "execution_count": 44,
      "outputs": [
        {
          "output_type": "stream",
          "name": "stdout",
          "text": [
            "The total trip cost is: $12.80\n"
          ]
        }
      ]
    },
    {
      "cell_type": "markdown",
      "source": [
        "f-string"
      ],
      "metadata": {
        "id": "OE--io3geNDS"
      }
    },
    {
      "cell_type": "code",
      "source": [
        "print(f\"SOME_STRING {tax}\")"
      ],
      "metadata": {
        "colab": {
          "base_uri": "https://localhost:8080/"
        },
        "id": "ScGMIdBxeQ4W",
        "outputId": "bc733d5a-620d-42ab-9dbb-706d99416f67"
      },
      "execution_count": 48,
      "outputs": [
        {
          "output_type": "stream",
          "name": "stdout",
          "text": [
            "SOME_STRING $ 0.80\n"
          ]
        }
      ]
    },
    {
      "cell_type": "code",
      "source": [
        "print(f\"The total trip cost is: $ {tot}\")"
      ],
      "metadata": {
        "colab": {
          "base_uri": "https://localhost:8080/"
        },
        "id": "qfzWZUZWdtJw",
        "outputId": "32c958a7-4eab-4eab-e99c-0b5ce5df3763"
      },
      "execution_count": 45,
      "outputs": [
        {
          "output_type": "stream",
          "name": "stdout",
          "text": [
            "The total trip cost is: $ 12.8\n"
          ]
        }
      ]
    },
    {
      "cell_type": "markdown",
      "source": [],
      "metadata": {
        "id": "d6fDVz0gemmV"
      }
    },
    {
      "cell_type": "code",
      "source": [
        "print(f\"The total trip cost is: $ {tot:.2f}\")"
      ],
      "metadata": {
        "colab": {
          "base_uri": "https://localhost:8080/"
        },
        "id": "qK75Ld8ceBXx",
        "outputId": "57db6af1-b199-4236-c35b-294579b38e85"
      },
      "execution_count": 47,
      "outputs": [
        {
          "output_type": "stream",
          "name": "stdout",
          "text": [
            "The total trip cost is: $ 12.80\n"
          ]
        }
      ]
    },
    {
      "cell_type": "markdown",
      "source": [
        "why f-string is useful\n"
      ],
      "metadata": {
        "id": "ueDj0UAwd0f8"
      }
    },
    {
      "cell_type": "code",
      "source": [
        "for val in range(1,10):\n",
        "  sentence = f\"My value is: {val}\"\n",
        "  print(sentence)"
      ],
      "metadata": {
        "colab": {
          "base_uri": "https://localhost:8080/"
        },
        "id": "M8CgrDaCerdx",
        "outputId": "64b48b1b-2e11-46a9-9e23-96a4468bdfd3"
      },
      "execution_count": 50,
      "outputs": [
        {
          "output_type": "stream",
          "name": "stdout",
          "text": [
            "My value is: 1\n",
            "My value is: 2\n",
            "My value is: 3\n",
            "My value is: 4\n",
            "My value is: 5\n",
            "My value is: 6\n",
            "My value is: 7\n",
            "My value is: 8\n",
            "My value is: 9\n"
          ]
        }
      ]
    },
    {
      "cell_type": "markdown",
      "source": [
        "## Q4"
      ],
      "metadata": {
        "id": "uFdEyD8pfO5n"
      }
    },
    {
      "cell_type": "code",
      "source": [
        "list_variable = [100, 144, 169, 1000, 8]\n",
        "\n",
        "print(\"The largest value in the list is:\", max(list_variable))"
      ],
      "metadata": {
        "colab": {
          "base_uri": "https://localhost:8080/"
        },
        "id": "8ycqYxlteofz",
        "outputId": "1fd701fd-fa20-4ec4-a48c-ceeb269a2e89"
      },
      "execution_count": 52,
      "outputs": [
        {
          "output_type": "stream",
          "name": "stdout",
          "text": [
            "The largest value in the list is: 1000\n"
          ]
        }
      ]
    },
    {
      "cell_type": "markdown",
      "source": [
        "## Q5"
      ],
      "metadata": {
        "id": "bFGaftUJfd-g"
      }
    },
    {
      "cell_type": "code",
      "source": [
        "vals = [3, 2, 1, 0]"
      ],
      "metadata": {
        "id": "9uSetauXffDW"
      },
      "execution_count": 55,
      "outputs": []
    },
    {
      "cell_type": "code",
      "source": [
        "len(vals)"
      ],
      "metadata": {
        "colab": {
          "base_uri": "https://localhost:8080/"
        },
        "id": "h95Yqo91hr_Q",
        "outputId": "a76ac89e-3848-4f94-fae1-d3441bb3d0f9"
      },
      "execution_count": 56,
      "outputs": [
        {
          "output_type": "execute_result",
          "data": {
            "text/plain": [
              "4"
            ]
          },
          "metadata": {},
          "execution_count": 56
        }
      ]
    },
    {
      "cell_type": "code",
      "source": [
        "vals[0]"
      ],
      "metadata": {
        "colab": {
          "base_uri": "https://localhost:8080/"
        },
        "id": "XGDy7UFVhzdR",
        "outputId": "feb4f8f7-0c74-47c2-d0af-a8acdd15f95a"
      },
      "execution_count": 57,
      "outputs": [
        {
          "output_type": "execute_result",
          "data": {
            "text/plain": [
              "3"
            ]
          },
          "metadata": {},
          "execution_count": 57
        }
      ]
    },
    {
      "cell_type": "code",
      "source": [
        "vals[1]"
      ],
      "metadata": {
        "colab": {
          "base_uri": "https://localhost:8080/"
        },
        "id": "Y9hGWR03h0gk",
        "outputId": "37a8c081-15e9-470f-9ab9-abe6fb78d677"
      },
      "execution_count": 58,
      "outputs": [
        {
          "output_type": "execute_result",
          "data": {
            "text/plain": [
              "2"
            ]
          },
          "metadata": {},
          "execution_count": 58
        }
      ]
    },
    {
      "cell_type": "code",
      "source": [
        "vals[2]"
      ],
      "metadata": {
        "colab": {
          "base_uri": "https://localhost:8080/"
        },
        "id": "VLZnB0Ddh1qh",
        "outputId": "7f3387ff-e3d1-4dec-aeaa-23b00d341e44"
      },
      "execution_count": 59,
      "outputs": [
        {
          "output_type": "execute_result",
          "data": {
            "text/plain": [
              "1"
            ]
          },
          "metadata": {},
          "execution_count": 59
        }
      ]
    },
    {
      "cell_type": "code",
      "source": [
        "vals[3]"
      ],
      "metadata": {
        "colab": {
          "base_uri": "https://localhost:8080/"
        },
        "id": "g8f0wUBdh2-p",
        "outputId": "09decca6-f5d1-4745-a476-fab657a412d1"
      },
      "execution_count": 60,
      "outputs": [
        {
          "output_type": "execute_result",
          "data": {
            "text/plain": [
              "0"
            ]
          },
          "metadata": {},
          "execution_count": 60
        }
      ]
    },
    {
      "cell_type": "markdown",
      "source": [],
      "metadata": {
        "id": "VncLnV3qhEow"
      }
    },
    {
      "cell_type": "code",
      "source": [
        "# while CONDITION_IS_TRUE:\n",
        "  # EXCUTE_THIS_LINES_OF_CODE"
      ],
      "metadata": {
        "id": "871bRDishCNz"
      },
      "execution_count": null,
      "outputs": []
    },
    {
      "cell_type": "code",
      "source": [
        "vals = [3, 2, 1, 0]\n",
        "\n",
        "iter = 0\n",
        "while iter < len(vals):\n",
        "  print( vals[iter] )\n",
        "  iter += 1 # equivalent to `iter = iter + 1`"
      ],
      "metadata": {
        "colab": {
          "base_uri": "https://localhost:8080/"
        },
        "id": "2Mv8zrrqhUtR",
        "outputId": "759c8f2b-69e7-4130-a61e-39e51141ea02"
      },
      "execution_count": 61,
      "outputs": [
        {
          "output_type": "stream",
          "name": "stdout",
          "text": [
            "3\n",
            "2\n",
            "1\n",
            "0\n"
          ]
        }
      ]
    },
    {
      "cell_type": "code",
      "source": [
        "vals = [3, 2, 1, 0]\n",
        "\n",
        "iter = 0\n",
        "while iter < len(vals):\n",
        "  print( vals[iter] )\n",
        "  iter = iter + 1"
      ],
      "metadata": {
        "id": "qYe7hHQciIbe"
      },
      "execution_count": null,
      "outputs": []
    },
    {
      "cell_type": "code",
      "source": [
        "len(vals)"
      ],
      "metadata": {
        "colab": {
          "base_uri": "https://localhost:8080/"
        },
        "id": "nDrhiHLoid5S",
        "outputId": "ed769dd8-90bd-4475-a146-b9168089b8fc"
      },
      "execution_count": 63,
      "outputs": [
        {
          "output_type": "execute_result",
          "data": {
            "text/plain": [
              "4"
            ]
          },
          "metadata": {},
          "execution_count": 63
        }
      ]
    },
    {
      "cell_type": "code",
      "source": [
        "vals = [3, 2, 1, 0]\n",
        "\n",
        "i = 0\n",
        "length_of_vals = len(vals)\n",
        "while i < length_of_vals:\n",
        "  print( vals[i] )\n",
        "  i += 1 # equivalent to `i = i + 1`"
      ],
      "metadata": {
        "colab": {
          "base_uri": "https://localhost:8080/"
        },
        "id": "DxcJNnqxiO6L",
        "outputId": "eca2f27f-b000-4773-f79d-502b9d798e48"
      },
      "execution_count": 65,
      "outputs": [
        {
          "output_type": "stream",
          "name": "stdout",
          "text": [
            "3\n",
            "2\n",
            "1\n",
            "0\n"
          ]
        }
      ]
    },
    {
      "cell_type": "code",
      "source": [
        "vals = [3, 2, 1, 0]\n",
        "\n",
        "iter = 0\n",
        "while iter < len(vals):\n",
        "  print( vals[iter] )\n",
        "  iter = iter + 1"
      ],
      "metadata": {
        "id": "D-lTwIBqiu5e"
      },
      "execution_count": null,
      "outputs": []
    },
    {
      "cell_type": "markdown",
      "source": [
        "Condition 0 < 4 -> True\n",
        "\n",
        "print( vals[0] )\n",
        "iter = iter + 1 , i.e., iter = 0 + 1\n",
        "\n",
        "Condition 1 < 4 -> True\n",
        "\n",
        "print( vals[1] )\n",
        "iter = iter + 1 , i.e., iter = 1 + 1\n",
        "\n",
        "\n",
        "Condition 2 < 4 -> True\n",
        "\n",
        "print( vals[2] )\n",
        "iter = iter + 1 , i.e., iter = 2 + 1\n",
        "\n",
        "Condition 3 < 4 -> True\n",
        "\n",
        "print( vals[3] )\n",
        "iter = iter + 1 , i.e., iter = 3 + 1\n",
        "\n",
        "\n",
        "Condition 4 < 4 -> False\n",
        "\n",
        "While-loop stops\n",
        "\n",
        "\n"
      ],
      "metadata": {
        "id": "-cvhIFDri5kx"
      }
    },
    {
      "cell_type": "markdown",
      "source": [
        "for-loop"
      ],
      "metadata": {
        "id": "wzXGBA_-jocg"
      }
    },
    {
      "cell_type": "code",
      "source": [
        "vals = [3, 2, 1, 0]\n",
        "\n",
        "for val in vals:\n",
        "  print(val)"
      ],
      "metadata": {
        "colab": {
          "base_uri": "https://localhost:8080/"
        },
        "id": "gSL-TkCFixZw",
        "outputId": "952d5a41-e882-45ff-a118-9db2ef93bccc"
      },
      "execution_count": 67,
      "outputs": [
        {
          "output_type": "stream",
          "name": "stdout",
          "text": [
            "3\n",
            "2\n",
            "1\n",
            "0\n"
          ]
        }
      ]
    },
    {
      "cell_type": "code",
      "source": [
        "vals = [3, 2, 1, 0]\n",
        "\n",
        "for j in vals:\n",
        "  print(j)"
      ],
      "metadata": {
        "colab": {
          "base_uri": "https://localhost:8080/"
        },
        "id": "XXcOMpSOj9O4",
        "outputId": "2410d9f2-2663-4924-9c31-022b50bae7b8"
      },
      "execution_count": 68,
      "outputs": [
        {
          "output_type": "stream",
          "name": "stdout",
          "text": [
            "3\n",
            "2\n",
            "1\n",
            "0\n"
          ]
        }
      ]
    },
    {
      "cell_type": "code",
      "source": [
        "vals = [3, 2, 1, 0]\n",
        "\n",
        "for item in vals:\n",
        "  print(item)"
      ],
      "metadata": {
        "colab": {
          "base_uri": "https://localhost:8080/"
        },
        "id": "uN-U5WgMj_lD",
        "outputId": "47ed430e-0712-4212-ee9a-06ea6f8683f2"
      },
      "execution_count": 69,
      "outputs": [
        {
          "output_type": "stream",
          "name": "stdout",
          "text": [
            "3\n",
            "2\n",
            "1\n",
            "0\n"
          ]
        }
      ]
    },
    {
      "cell_type": "code",
      "source": [
        "vals = [3, 2, 1, 0]\n",
        "\n",
        "i = 0\n",
        "length_of_vals = len(vals)\n",
        "while i < length_of_vals:\n",
        "  print( vals[i] )\n",
        "  i += 1 # equivalent to `i = i + 1`"
      ],
      "metadata": {
        "id": "mx7wducgkEAl"
      },
      "execution_count": null,
      "outputs": []
    },
    {
      "cell_type": "code",
      "source": [
        "vals = [3, 2, 1, 0]\n",
        "\n",
        "for item in vals:\n",
        "  print(item)"
      ],
      "metadata": {
        "id": "h6csiedykEjV"
      },
      "execution_count": null,
      "outputs": []
    }
  ]
}